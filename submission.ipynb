{
 "cells": [
  {
   "cell_type": "code",
   "execution_count": 1,
   "id": "a4d42688",
   "metadata": {
    "_cell_guid": "b1076dfc-b9ad-4769-8c92-a6c4dae69d19",
    "_uuid": "8f2839f25d086af736a60e9eeb907d3b93b6e0e5",
    "execution": {
     "iopub.execute_input": "2024-11-01T02:12:03.274158Z",
     "iopub.status.busy": "2024-11-01T02:12:03.273409Z",
     "iopub.status.idle": "2024-11-01T02:12:06.380309Z",
     "shell.execute_reply": "2024-11-01T02:12:06.379375Z"
    },
    "papermill": {
     "duration": 3.120796,
     "end_time": "2024-11-01T02:12:06.383372",
     "exception": false,
     "start_time": "2024-11-01T02:12:03.262576",
     "status": "completed"
    },
    "tags": []
   },
   "outputs": [
    {
     "name": "stdout",
     "output_type": "stream",
     "text": [
      "The train data has the shape:  (3960, 81)\n",
      "The test data has the shape:  (20, 58)\n",
      "\n",
      "Total number of missing training values:  131717\n"
     ]
    },
    {
     "name": "stderr",
     "output_type": "stream",
     "text": [
      "/tmp/ipykernel_23/1503705163.py:18: FutureWarning: Downcasting behavior in `replace` is deprecated and will be removed in a future version. To retain the old behavior, explicitly call `result.infer_objects(copy=False)`. To opt-in to the future behavior, set `pd.set_option('future.no_silent_downcasting', True)`\n",
      "  train[season] = train[season].replace({'Spring':1, 'Summer':2, 'Fall':3, 'Winter':4})\n"
     ]
    }
   ],
   "source": [
    "import numpy as np, pandas as pd, os\n",
    "from sklearn.model_selection import cross_val_score, StratifiedKFold\n",
    "import xgboost as xgb\n",
    "import plotly.express as px, seaborn as sns, matplotlib.pyplot as plt\n",
    "sns.set_style('darkgrid')\n",
    "from sklearn.metrics import make_scorer, cohen_kappa_score\n",
    "path = '../input/child-mind-institute-problematic-internet-use/'\n",
    "sample = pd.read_csv('/kaggle/input/child-mind-institute-problematic-internet-use/sample_submission.csv')\n",
    "train = pd.read_csv(path + 'train.csv', index_col = 'id')\n",
    "print(\"The train data has the shape: \",train.shape)\n",
    "test = pd.read_csv(path + 'test.csv', index_col = 'id')\n",
    "print(\"The test data has the shape: \",test.shape)\n",
    "print(\"\")\n",
    "print(\"Total number of missing training values: \", train.isna().sum().sum())\n",
    "train_cat_columns = train.select_dtypes(exclude = 'number').columns\n",
    "\n",
    "for season in train_cat_columns:\n",
    "    train[season] = train[season].replace({'Spring':1, 'Summer':2, 'Fall':3, 'Winter':4})\n",
    "PCIAT_cols = [val for val in train.columns[train.columns.str.contains('PCIAT')]]\n",
    "PCIAT_cols.remove('PCIAT-PCIAT_Total')\n",
    "train = train.drop(columns = PCIAT_cols)\n",
    "train = train.dropna(subset='sii')"
   ]
  },
  {
   "cell_type": "code",
   "execution_count": 2,
   "id": "933b602c",
   "metadata": {
    "execution": {
     "iopub.execute_input": "2024-11-01T02:12:06.396236Z",
     "iopub.status.busy": "2024-11-01T02:12:06.395953Z",
     "iopub.status.idle": "2024-11-01T02:12:06.405369Z",
     "shell.execute_reply": "2024-11-01T02:12:06.404648Z"
    },
    "papermill": {
     "duration": 0.017911,
     "end_time": "2024-11-01T02:12:06.407146",
     "exception": false,
     "start_time": "2024-11-01T02:12:06.389235",
     "status": "completed"
    },
    "tags": []
   },
   "outputs": [],
   "source": [
    "def stratified_split_data(data, ratio=0.7,seed=42):\n",
    "    train_model = []\n",
    "    train_val = []\n",
    "\n",
    "    # Loop over each unique category in 'sii'\n",
    "    for sii_value in data['sii'].unique():\n",
    "        subset = data[data['sii'] == sii_value]  # Filter by current sii value\n",
    "        \n",
    "        # Shuffle the subset for randomness\n",
    "        subset = subset.sample(frac=1, random_state=seed).reset_index(drop=True)\n",
    "        \n",
    "        # Split the data for this sii category\n",
    "        split_index = round(len(subset) * ratio)\n",
    "        train_model.append(subset[:split_index])\n",
    "        train_val.append(subset[split_index:])\n",
    "\n",
    "        print(f\"sii = {sii_value} | Train: {len(train_model[-1])} | Val: {len(train_val[-1])}\")\n",
    "\n",
    "    # Concatenate all sii-category splits\n",
    "    train_model = pd.concat(train_model).reset_index(drop=True)\n",
    "    train_val = pd.concat(train_val).reset_index(drop=True)\n",
    "\n",
    "    return train_model, train_val\n",
    "\n",
    "\n",
    "def convert(scores):\n",
    "    scores = np.array(scores)*1.3\n",
    "    bins = np.zeros_like(scores)\n",
    "    bins[scores <= 30] = 0\n",
    "    bins[(scores > 30) & (scores < 50)] = 1\n",
    "    bins[(scores >= 50) & (scores < 80)] = 2\n",
    "    bins[scores >= 80] = 3\n",
    "    return bins\n",
    "def quadratic_kappa(y_true, y_pred):\n",
    "    return cohen_kappa_score(y_true, y_pred, weights='quadratic')"
   ]
  },
  {
   "cell_type": "code",
   "execution_count": 3,
   "id": "8881dbcf",
   "metadata": {
    "execution": {
     "iopub.execute_input": "2024-11-01T02:12:06.419441Z",
     "iopub.status.busy": "2024-11-01T02:12:06.419170Z",
     "iopub.status.idle": "2024-11-01T02:12:09.750259Z",
     "shell.execute_reply": "2024-11-01T02:12:09.749448Z"
    },
    "papermill": {
     "duration": 3.340006,
     "end_time": "2024-11-01T02:12:09.752609",
     "exception": false,
     "start_time": "2024-11-01T02:12:06.412603",
     "status": "completed"
    },
    "tags": []
   },
   "outputs": [],
   "source": [
    "import torch\n",
    "import torch.nn as nn\n",
    "import torch.optim as optim\n",
    "import pandas as pd\n",
    "from torch.utils.data import Dataset, DataLoader\n",
    "\n",
    "# Define a custom dataset class that handles sample IDs from the index\n",
    "class CustomDataset(Dataset):\n",
    "    def __init__(self, data, targets):\n",
    "        df = pd.DataFrame(data)\n",
    "        df = df.fillna(0.0)\n",
    "        self.data = torch.tensor(df.values, dtype=torch.float32)\n",
    "        self.targets = torch.tensor(targets, dtype=torch.float32)\n",
    "        self.sample_ids = data.index  # Use the index as sample IDs\n",
    "        self.mask=np.array(data.isna().astype(int))\n",
    "\n",
    "    def __len__(self):\n",
    "        return len(self.data)\n",
    "\n",
    "    def __getitem__(self, idx):\n",
    "        return self.data[idx], self.targets[idx], self.sample_ids[idx],self.mask[idx]\n",
    "\n",
    "# Simple Neural Network Model\n",
    "class SimpleNN(nn.Module):\n",
    "    def __init__(self, input_size):\n",
    "        super(SimpleNN, self).__init__()\n",
    "        self.network = nn.Sequential(\n",
    "            nn.Linear(input_size, 64),\n",
    "            nn.BatchNorm1d(64),  # Add batch normalization\n",
    "            nn.ReLU(),\n",
    "            nn.Linear(64, 32),\n",
    "            nn.BatchNorm1d(32),  # Add batch normalization\n",
    "            nn.ReLU(),\n",
    "            nn.Linear(32, 1),\n",
    "            nn.Sigmoid()  # Output between 0 and 1\n",
    "        )\n",
    "\n",
    "    def forward(self, x):\n",
    "        return self.network(x) * 100\n",
    "def train_XG_mask_nns(data, target_df, num_epochs=200,num_models=3, batch_size=64, lr=0.0025):\n",
    "    models={}\n",
    "    losses=np.array([])\n",
    "    \n",
    "\n",
    "    # Loss function (assuming regression task, modify for classification)\n",
    "    criterion = nn.MSELoss()\n",
    "\n",
    "    # Store predictions and sample IDs for mapping later\n",
    "    all_predictions = {}\n",
    "    # Extract targets matching the sample IDs in separated_data\n",
    "    matching_targets = target_df.loc[data.index]  # Ensure target_df index aligns with data.index\n",
    "    \n",
    "    # Create dataset and data loader\n",
    "    dataset = CustomDataset(data, matching_targets.values)\n",
    "    dataloader = DataLoader(dataset, batch_size=batch_size, shuffle=True)\n",
    "\n",
    "    # Initialize model, optimizer, and store them\n",
    "    for ith_model in range(num_models):\n",
    "        print(f\"\\nTraining Model {ith_model}...\")\n",
    "        input_size = data.shape[1]\n",
    "        model = SimpleNN(input_size)\n",
    "        optimizer = optim.Adam(model.parameters(), lr=lr)\n",
    "        if not losses.size== 0:\n",
    "            # Create a new dataset using the previous losses as targets\n",
    "            dataset = CustomDataset(data, losses)\n",
    "            dataloader = DataLoader(dataset, batch_size=batch_size, shuffle=True)\n",
    "            losses=np.array([])\n",
    "    # Training loop\n",
    "        for epoch in range(num_epochs):\n",
    "            model.train()\n",
    "            for inputs, target, ids,mask in dataloader:\n",
    "                optimizer.zero_grad()\n",
    "                output = model(inputs).squeeze()\n",
    "                loss = criterion(output, target)\n",
    "                loss= loss * (1-mask).float().mean(dim=1)   # Mask out NaN positions\n",
    "                loss=loss.mean()\n",
    "                loss.backward()\n",
    "                optimizer.step()\n",
    "            #if epoch % 50==0:\n",
    "                #print(ith_model)\n",
    "                #print('Epoch'+str(epoch))\n",
    "                #print(loss)\n",
    "\n",
    "        model.eval()\n",
    "        for inputs, target, ids,mask in dataloader:\n",
    "            optimizer.zero_grad()\n",
    "            output = model(inputs).squeeze()\n",
    "            loss = target-output\n",
    "            loss= loss * (1-mask).float().mean(dim=1)  # Mask out NaN positions\n",
    "            losses=np.append(losses,loss.detach().numpy())\n",
    "\n",
    "        models[ith_model] = model\n",
    "        \n",
    " \n",
    "\n",
    "    return models\n",
    "def run_XG_mask_nns(test_data, models,batch_size=32):\n",
    "    output_list=np.array([])\n",
    "    index_name=[]\n",
    "\n",
    "    # Initialize model, optimizer, and store them\n",
    "    for ith_model in range(len(models)):\n",
    "        model=models[ith_model]\n",
    "        model.eval()\n",
    "        #print(f\"\\nrunning Model...\")\n",
    "        test_inputs = torch.tensor(test_data.values, dtype=torch.float32)\n",
    "        test_inputs = torch.nan_to_num(test_inputs, nan=0.0)\n",
    "    # Training loop\n",
    "        with torch.no_grad():\n",
    "            output = model(test_inputs).squeeze()\n",
    "        if output_list.size==0:\n",
    "            output_list=output\n",
    "        else:\n",
    "            output_list=output_list+output\n",
    "    all_predictions = pd.DataFrame({'Sample_ID':  test_data.index, 'Prediction': convert(output_list)})\n",
    "        \n",
    " \n",
    "\n",
    "    return all_predictions\n",
    "    "
   ]
  },
  {
   "cell_type": "code",
   "execution_count": 4,
   "id": "5797bb80",
   "metadata": {
    "execution": {
     "iopub.execute_input": "2024-11-01T02:12:09.766915Z",
     "iopub.status.busy": "2024-11-01T02:12:09.766430Z",
     "iopub.status.idle": "2024-11-01T02:13:15.737431Z",
     "shell.execute_reply": "2024-11-01T02:13:15.736373Z"
    },
    "papermill": {
     "duration": 65.98155,
     "end_time": "2024-11-01T02:13:15.740188",
     "exception": false,
     "start_time": "2024-11-01T02:12:09.758638",
     "status": "completed"
    },
    "tags": []
   },
   "outputs": [
    {
     "name": "stdout",
     "output_type": "stream",
     "text": [
      "sii = 2.0 | Train: 302 | Val: 76\n",
      "sii = 0.0 | Train: 1275 | Val: 319\n",
      "sii = 1.0 | Train: 584 | Val: 146\n",
      "sii = 3.0 | Train: 27 | Val: 7\n",
      "\n",
      "Training Model 0...\n",
      "\n",
      "Training Model 1...\n",
      "\n",
      "Training Model 2...\n"
     ]
    }
   ],
   "source": [
    "\n",
    "train_model,train_val=stratified_split_data(train, ratio=0.8)\n",
    "targets_train = train_model[\"PCIAT-PCIAT_Total\"]\n",
    "run_model_mask_nn_train = train_model.drop(columns = ['PCIAT-PCIAT_Total','sii'])\n",
    "targets_val = train_val[\"PCIAT-PCIAT_Total\"]\n",
    "run_model_mask_nn_val = train_val.drop(columns = ['PCIAT-PCIAT_Total','sii'])\n",
    "models= train_XG_mask_nns(run_model_mask_nn_train, targets_train,num_models=3,num_epochs=200,lr=0.0025)\n",
    "\n",
    "output_train=run_XG_mask_nns(run_model_mask_nn_train,models)\n",
    "output_val=run_XG_mask_nns(run_model_mask_nn_val,models)\n",
    "train_score=quadratic_kappa(convert(targets_train[output_train['Sample_ID'].values].values),output_train['Prediction'].values)\n",
    "val_score=quadratic_kappa(convert(targets_val[output_val['Sample_ID'].values].values),output_val['Prediction'].values)"
   ]
  },
  {
   "cell_type": "code",
   "execution_count": 5,
   "id": "30543bd2",
   "metadata": {
    "execution": {
     "iopub.execute_input": "2024-11-01T02:13:15.756191Z",
     "iopub.status.busy": "2024-11-01T02:13:15.755681Z",
     "iopub.status.idle": "2024-11-01T02:13:15.760680Z",
     "shell.execute_reply": "2024-11-01T02:13:15.759696Z"
    },
    "papermill": {
     "duration": 0.015208,
     "end_time": "2024-11-01T02:13:15.762898",
     "exception": false,
     "start_time": "2024-11-01T02:13:15.747690",
     "status": "completed"
    },
    "tags": []
   },
   "outputs": [
    {
     "name": "stdout",
     "output_type": "stream",
     "text": [
      "0.523230099261728\n",
      "0.3854210051367486\n"
     ]
    }
   ],
   "source": [
    "print(train_score)\n",
    "print(val_score)"
   ]
  },
  {
   "cell_type": "code",
   "execution_count": 6,
   "id": "e2295a81",
   "metadata": {
    "execution": {
     "iopub.execute_input": "2024-11-01T02:13:15.776224Z",
     "iopub.status.busy": "2024-11-01T02:13:15.775930Z",
     "iopub.status.idle": "2024-11-01T02:13:15.797224Z",
     "shell.execute_reply": "2024-11-01T02:13:15.796288Z"
    },
    "papermill": {
     "duration": 0.0302,
     "end_time": "2024-11-01T02:13:15.799352",
     "exception": false,
     "start_time": "2024-11-01T02:13:15.769152",
     "status": "completed"
    },
    "tags": []
   },
   "outputs": [
    {
     "name": "stderr",
     "output_type": "stream",
     "text": [
      "/tmp/ipykernel_23/3434640191.py:5: FutureWarning: Downcasting behavior in `replace` is deprecated and will be removed in a future version. To retain the old behavior, explicitly call `result.infer_objects(copy=False)`. To opt-in to the future behavior, set `pd.set_option('future.no_silent_downcasting', True)`\n",
      "  test[season] = test[season].replace({'Spring':1, 'Summer':2, 'Fall':3, 'Winter':4})\n"
     ]
    }
   ],
   "source": [
    "# Make predictions on test data for each category\n",
    "test_cat = test.select_dtypes(exclude = 'number').columns\n",
    "\n",
    "for season in test_cat:\n",
    "    test[season] = test[season].replace({'Spring':1, 'Summer':2, 'Fall':3, 'Winter':4})\n",
    "\n",
    "test_predictions = run_XG_mask_nns(test, models)\n",
    "\n",
    "preds = pd.Series(test_predictions['Prediction'].values.ravel(), dtype='float32')\n",
    "preds.index = test.index\n",
    "preds.to_csv('submission.csv')"
   ]
  },
  {
   "cell_type": "code",
   "execution_count": 7,
   "id": "0baec58b",
   "metadata": {
    "execution": {
     "iopub.execute_input": "2024-11-01T02:13:15.812796Z",
     "iopub.status.busy": "2024-11-01T02:13:15.812125Z",
     "iopub.status.idle": "2024-11-01T02:13:15.822414Z",
     "shell.execute_reply": "2024-11-01T02:13:15.821566Z"
    },
    "papermill": {
     "duration": 0.01905,
     "end_time": "2024-11-01T02:13:15.824328",
     "exception": false,
     "start_time": "2024-11-01T02:13:15.805278",
     "status": "completed"
    },
    "tags": []
   },
   "outputs": [
    {
     "data": {
      "text/plain": [
       "id\n",
       "00008ff9    1.0\n",
       "000fd460    0.0\n",
       "00105258    1.0\n",
       "00115b9f    1.0\n",
       "0016bb22    0.0\n",
       "001f3379    1.0\n",
       "0038ba98    0.0\n",
       "0068a485    0.0\n",
       "0069fbed    1.0\n",
       "0083e397    0.0\n",
       "0087dd65    0.0\n",
       "00abe655    1.0\n",
       "00ae59c9    2.0\n",
       "00af6387    0.0\n",
       "00bd4359    1.0\n",
       "00c0cd71    0.0\n",
       "00d56d4b    0.0\n",
       "00d9913d    0.0\n",
       "00e6167c    1.0\n",
       "00ebc35d    1.0\n",
       "dtype: float32"
      ]
     },
     "execution_count": 7,
     "metadata": {},
     "output_type": "execute_result"
    }
   ],
   "source": [
    "np.round(preds)"
   ]
  },
  {
   "cell_type": "code",
   "execution_count": 8,
   "id": "1121c904",
   "metadata": {
    "execution": {
     "iopub.execute_input": "2024-11-01T02:13:15.838504Z",
     "iopub.status.busy": "2024-11-01T02:13:15.838093Z",
     "iopub.status.idle": "2024-11-01T02:13:30.070836Z",
     "shell.execute_reply": "2024-11-01T02:13:30.069877Z"
    },
    "papermill": {
     "duration": 14.242423,
     "end_time": "2024-11-01T02:13:30.073176",
     "exception": false,
     "start_time": "2024-11-01T02:13:15.830753",
     "status": "completed"
    },
    "tags": []
   },
   "outputs": [],
   "source": [
    "import numpy as np\n",
    "import pandas as pd\n",
    "import os\n",
    "import re\n",
    "from sklearn.base import clone\n",
    "from sklearn.metrics import cohen_kappa_score\n",
    "from sklearn.model_selection import StratifiedKFold\n",
    "from scipy.optimize import minimize\n",
    "from concurrent.futures import ThreadPoolExecutor\n",
    "from tqdm import tqdm\n",
    "import polars as pl\n",
    "import polars.selectors as cs\n",
    "import matplotlib.pyplot as plt\n",
    "from matplotlib.ticker import MaxNLocator, FormatStrFormatter, PercentFormatter\n",
    "import seaborn as sns\n",
    "\n",
    "from sklearn.preprocessing import StandardScaler\n",
    "import matplotlib.pyplot as plt\n",
    "from keras.models import Model\n",
    "from keras.layers import Input, Dense\n",
    "from keras.optimizers import Adam\n",
    "import torch\n",
    "import torch.nn as nn\n",
    "import torch.optim as optim\n",
    "\n",
    "from colorama import Fore, Style\n",
    "from IPython.display import clear_output\n",
    "import warnings\n",
    "from lightgbm import LGBMRegressor\n",
    "from xgboost import XGBRegressor\n",
    "from catboost import CatBoostRegressor\n",
    "from sklearn.ensemble import VotingRegressor, RandomForestRegressor, GradientBoostingRegressor\n",
    "from sklearn.impute import SimpleImputer, KNNImputer\n",
    "from sklearn.pipeline import Pipeline\n",
    "warnings.filterwarnings('ignore')\n",
    "pd.options.display.max_columns = None\n",
    "from sklearn.base import BaseEstimator, RegressorMixin"
   ]
  },
  {
   "cell_type": "code",
   "execution_count": 9,
   "id": "eb034bbe",
   "metadata": {
    "execution": {
     "iopub.execute_input": "2024-11-01T02:13:30.087670Z",
     "iopub.status.busy": "2024-11-01T02:13:30.086761Z",
     "iopub.status.idle": "2024-11-01T02:13:30.095259Z",
     "shell.execute_reply": "2024-11-01T02:13:30.094384Z"
    },
    "papermill": {
     "duration": 0.017571,
     "end_time": "2024-11-01T02:13:30.097118",
     "exception": false,
     "start_time": "2024-11-01T02:13:30.079547",
     "status": "completed"
    },
    "tags": []
   },
   "outputs": [],
   "source": [
    "class TrainXGMaskNNSRegressor(BaseEstimator, RegressorMixin):\n",
    "    def __init__(self, num_epochs=200, num_models=3, batch_size=64, lr=0.0025):\n",
    "        self.num_epochs = num_epochs\n",
    "        self.num_models = num_models\n",
    "        self.batch_size = batch_size\n",
    "        self.lr = lr\n",
    "        self.models = None  # This will store trained models after fitting\n",
    "\n",
    "    def fit(self, X, y):\n",
    "        # Ensure input data is in DataFrame format for compatibility\n",
    "        data = pd.DataFrame(X)\n",
    "        target_df = pd.Series(y, index=data.index)\n",
    "        \n",
    "        # Train models using the original train_XG_mask_nns function\n",
    "        self.models = train_XG_mask_nns(data, target_df, num_epochs=self.num_epochs, \n",
    "                                        num_models=self.num_models, batch_size=self.batch_size, lr=self.lr)\n",
    "        return self\n",
    "\n",
    "    def predict(self, X):\n",
    "        # Convert test data to DataFrame if not already\n",
    "        test_data = pd.DataFrame(X)\n",
    "        \n",
    "        # Use the run_XG_mask_nns function for prediction, which averages model outputs\n",
    "        predictions_df = run_XG_mask_nns(test_data, self.models, batch_size=self.batch_size)\n",
    "        \n",
    "        # Extract and return predictions as a NumPy array\n",
    "        return convert(predictions_df['Prediction'].values)"
   ]
  },
  {
   "cell_type": "markdown",
   "id": "3e2420b3",
   "metadata": {
    "papermill": {
     "duration": 0.006105,
     "end_time": "2024-11-01T02:13:30.109287",
     "exception": false,
     "start_time": "2024-11-01T02:13:30.103182",
     "status": "completed"
    },
    "tags": []
   },
   "source": [
    "Tab Net\n"
   ]
  },
  {
   "cell_type": "code",
   "execution_count": 10,
   "id": "43f57b55",
   "metadata": {
    "execution": {
     "iopub.execute_input": "2024-11-01T02:13:30.122451Z",
     "iopub.status.busy": "2024-11-01T02:13:30.122156Z",
     "iopub.status.idle": "2024-11-01T02:14:02.236441Z",
     "shell.execute_reply": "2024-11-01T02:14:02.235170Z"
    },
    "papermill": {
     "duration": 32.123853,
     "end_time": "2024-11-01T02:14:02.239151",
     "exception": false,
     "start_time": "2024-11-01T02:13:30.115298",
     "status": "completed"
    },
    "tags": []
   },
   "outputs": [],
   "source": [
    "!pip -q install /kaggle/input/pytorchtabnet/pytorch_tabnet-4.1.0-py3-none-any.whl"
   ]
  },
  {
   "cell_type": "code",
   "execution_count": 11,
   "id": "6a856a2d",
   "metadata": {
    "execution": {
     "iopub.execute_input": "2024-11-01T02:14:02.254195Z",
     "iopub.status.busy": "2024-11-01T02:14:02.253564Z",
     "iopub.status.idle": "2024-11-01T02:14:02.258234Z",
     "shell.execute_reply": "2024-11-01T02:14:02.257403Z"
    },
    "papermill": {
     "duration": 0.014357,
     "end_time": "2024-11-01T02:14:02.260199",
     "exception": false,
     "start_time": "2024-11-01T02:14:02.245842",
     "status": "completed"
    },
    "tags": []
   },
   "outputs": [],
   "source": [
    "SEED=42\n",
    "n_splits = 5"
   ]
  },
  {
   "cell_type": "code",
   "execution_count": 12,
   "id": "9071efea",
   "metadata": {
    "execution": {
     "iopub.execute_input": "2024-11-01T02:14:02.273887Z",
     "iopub.status.busy": "2024-11-01T02:14:02.273590Z",
     "iopub.status.idle": "2024-11-01T02:14:02.304449Z",
     "shell.execute_reply": "2024-11-01T02:14:02.303531Z"
    },
    "papermill": {
     "duration": 0.040369,
     "end_time": "2024-11-01T02:14:02.306652",
     "exception": false,
     "start_time": "2024-11-01T02:14:02.266283",
     "status": "completed"
    },
    "tags": []
   },
   "outputs": [],
   "source": [
    "from pytorch_tabnet.tab_model import TabNetRegressor\n",
    "import torch\n",
    "\n",
    "if np.any(np.isinf(train)):\n",
    "    train = train.replace([np.inf, -np.inf], np.nan)\n",
    "\n",
    "def quadratic_weighted_kappa(y_true, y_pred):\n",
    "    return cohen_kappa_score(y_true, y_pred, weights='quadratic')\n",
    "\n",
    "def threshold_Rounder(oof_non_rounded, thresholds):\n",
    "    return np.where(oof_non_rounded < thresholds[0], 0,\n",
    "                    np.where(oof_non_rounded < thresholds[1], 1,\n",
    "                             np.where(oof_non_rounded < thresholds[2], 2, 3)))\n",
    "\n",
    "def evaluate_predictions(thresholds, y_true, oof_non_rounded):\n",
    "    rounded_p = threshold_Rounder(oof_non_rounded, thresholds)\n",
    "    return -quadratic_weighted_kappa(y_true, rounded_p)\n",
    "def TrainML(model_class, test_data):\n",
    "    X = train.drop(['sii'], axis=1)\n",
    "    X= X.drop(['PCIAT-PCIAT_Total'],axis=1)\n",
    "    y = train['sii']\n",
    "    print(X.shape)\n",
    "    print(y.shape)\n",
    "    print(test_data.shape)\n",
    "    SKF = StratifiedKFold(n_splits=n_splits, shuffle=True, random_state=SEED)\n",
    "    \n",
    "    train_S = []\n",
    "    test_S = []\n",
    "    \n",
    "    oof_non_rounded = np.zeros(len(y), dtype=float) \n",
    "    oof_rounded = np.zeros(len(y), dtype=int) \n",
    "    test_preds = np.zeros((len(test_data), n_splits))\n",
    "\n",
    "    for fold, (train_idx, test_idx) in enumerate(tqdm(SKF.split(X, y), desc=\"Training Folds\", total=n_splits)):\n",
    "        X_train, X_val = X.iloc[train_idx], X.iloc[test_idx]\n",
    "        y_train, y_val = y.iloc[train_idx], y.iloc[test_idx]\n",
    "\n",
    "        model = clone(model_class)\n",
    "        print(model)\n",
    "        model.fit(X_train, y_train)\n",
    "\n",
    "        y_train_pred = model.predict(X_train)\n",
    "        y_val_pred = model.predict(X_val)\n",
    "\n",
    "        oof_non_rounded[test_idx] = y_val_pred\n",
    "        y_val_pred_rounded = y_val_pred.round(0).astype(int)\n",
    "        oof_rounded[test_idx] = y_val_pred_rounded\n",
    "\n",
    "        train_kappa = quadratic_weighted_kappa(y_train, y_train_pred.round(0).astype(int))\n",
    "        val_kappa = quadratic_weighted_kappa(y_val, y_val_pred_rounded)\n",
    "\n",
    "        train_S.append(train_kappa)\n",
    "        test_S.append(val_kappa)\n",
    "        \n",
    "        test_preds[:, fold] = model.predict(test_data)\n",
    "        \n",
    "        print(f\"Fold {fold+1} - Train QWK: {train_kappa:.4f}, Validation QWK: {val_kappa:.4f}\")\n",
    "        clear_output(wait=True)\n",
    "\n",
    "    print(f\"Mean Train QWK --> {np.mean(train_S):.4f}\")\n",
    "    print(f\"Mean Validation QWK ---> {np.mean(test_S):.4f}\")\n",
    "\n",
    "    KappaOPtimizer = minimize(evaluate_predictions,\n",
    "                              x0=[0.5, 1.5, 2.5], args=(y, oof_non_rounded), \n",
    "                              method='Nelder-Mead')\n",
    "    assert KappaOPtimizer.success, \"Optimization did not converge.\"\n",
    "    \n",
    "    oof_tuned = threshold_Rounder(oof_non_rounded, KappaOPtimizer.x)\n",
    "    tKappa = quadratic_weighted_kappa(y, oof_tuned)\n",
    "\n",
    "    print(f\"----> || Optimized QWK SCORE :: {Fore.CYAN}{Style.BRIGHT} {tKappa:.3f}{Style.RESET_ALL}\")\n",
    "\n",
    "    tpm = test_preds.mean(axis=1)\n",
    "    tpTuned = threshold_Rounder(tpm, KappaOPtimizer.x)\n",
    "    \n",
    "    submission = pd.DataFrame({\n",
    "        'id': sample['id'],\n",
    "        'sii': tpTuned\n",
    "    })\n",
    "\n",
    "    return submission"
   ]
  },
  {
   "cell_type": "code",
   "execution_count": 13,
   "id": "04492480",
   "metadata": {
    "execution": {
     "iopub.execute_input": "2024-11-01T02:14:02.320348Z",
     "iopub.status.busy": "2024-11-01T02:14:02.320057Z",
     "iopub.status.idle": "2024-11-01T02:14:02.326608Z",
     "shell.execute_reply": "2024-11-01T02:14:02.325749Z"
    },
    "papermill": {
     "duration": 0.015454,
     "end_time": "2024-11-01T02:14:02.328592",
     "exception": false,
     "start_time": "2024-11-01T02:14:02.313138",
     "status": "completed"
    },
    "tags": []
   },
   "outputs": [],
   "source": [
    "# Model parameters for LightGBM\n",
    "Params = {\n",
    "    'learning_rate': 0.046,\n",
    "    'max_depth': 12,\n",
    "    'num_leaves': 478,\n",
    "    'min_data_in_leaf': 13,\n",
    "    'feature_fraction': 0.893,\n",
    "    'bagging_fraction': 0.784,\n",
    "    'bagging_freq': 4,\n",
    "    'lambda_l1': 10,  # Increased from 6.59\n",
    "    'lambda_l2': 0.01,  # Increased from 2.68e-06\n",
    "    'device': 'gpu'\n",
    "\n",
    "}\n",
    "\n",
    "\n",
    "# XGBoost parameters\n",
    "XGB_Params = {\n",
    "    'learning_rate': 0.05,\n",
    "    'max_depth': 6,\n",
    "    'n_estimators': 200,\n",
    "    'subsample': 0.8,\n",
    "    'colsample_bytree': 0.8,\n",
    "    'reg_alpha': 1,  # Increased from 0.1\n",
    "    'reg_lambda': 5,  # Increased from 1\n",
    "    'random_state': SEED,\n",
    "    'tree_method': 'gpu_hist',\n",
    "\n",
    "}\n",
    "\n",
    "\n",
    "CatBoost_Params = {\n",
    "    'learning_rate': 0.05,\n",
    "    'depth': 6,\n",
    "    'iterations': 200,\n",
    "    'random_seed': SEED,\n",
    "    'verbose': 0,\n",
    "    'l2_leaf_reg': 10,  # Increase this value\n",
    "    'task_type': 'GPU'\n",
    "\n",
    "}"
   ]
  },
  {
   "cell_type": "code",
   "execution_count": 14,
   "id": "4538e798",
   "metadata": {
    "execution": {
     "iopub.execute_input": "2024-11-01T02:14:02.342328Z",
     "iopub.status.busy": "2024-11-01T02:14:02.342041Z",
     "iopub.status.idle": "2024-11-01T02:14:02.361691Z",
     "shell.execute_reply": "2024-11-01T02:14:02.360874Z"
    },
    "papermill": {
     "duration": 0.028794,
     "end_time": "2024-11-01T02:14:02.363537",
     "exception": false,
     "start_time": "2024-11-01T02:14:02.334743",
     "status": "completed"
    },
    "tags": []
   },
   "outputs": [],
   "source": [
    "# New: TabNet\n",
    "\n",
    "from sklearn.base import BaseEstimator, RegressorMixin\n",
    "from sklearn.impute import SimpleImputer\n",
    "from sklearn.model_selection import train_test_split\n",
    "from pytorch_tabnet.callbacks import Callback\n",
    "import os\n",
    "import torch\n",
    "from pytorch_tabnet.callbacks import Callback\n",
    "\n",
    "class TabNetWrapper(BaseEstimator, RegressorMixin):\n",
    "    def __init__(self, **kwargs):\n",
    "        self.model = TabNetRegressor(**kwargs)\n",
    "        self.kwargs = kwargs\n",
    "        self.imputer = SimpleImputer(strategy='median')\n",
    "        self.best_model_path = 'best_tabnet_model.pt'\n",
    "        \n",
    "    def fit(self, X, y):\n",
    "        # Handle missing values\n",
    "        \n",
    "        X_imputed = self.imputer.fit_transform(X)\n",
    "        \n",
    "        if hasattr(y, 'values'):\n",
    "            y = y.values\n",
    "            \n",
    "        # Create internal validation set\n",
    "        X_train, X_valid, y_train, y_valid = train_test_split(\n",
    "            X_imputed, \n",
    "            y, \n",
    "            test_size=0.2,\n",
    "            random_state=42\n",
    "        )\n",
    "        \n",
    "        # Train TabNet model\n",
    "        history = self.model.fit(\n",
    "            X_train=X_train,\n",
    "            y_train=y_train.reshape(-1, 1),\n",
    "            eval_set=[(X_valid, y_valid.reshape(-1, 1))],\n",
    "            eval_name=['valid'],\n",
    "            eval_metric=['mse'],\n",
    "            max_epochs=500,\n",
    "            patience=50,\n",
    "            batch_size=1024,\n",
    "            virtual_batch_size=128,\n",
    "            num_workers=0,\n",
    "            drop_last=False,\n",
    "            callbacks=[\n",
    "                TabNetPretrainedModelCheckpoint(\n",
    "                    filepath=self.best_model_path,\n",
    "                    monitor='valid_mse',\n",
    "                    mode='min',\n",
    "                    save_best_only=True,\n",
    "                    verbose=True\n",
    "                )\n",
    "            ]\n",
    "        )\n",
    "        \n",
    "        # Load the best model\n",
    "        if os.path.exists(self.best_model_path):\n",
    "            self.model.load_model(self.best_model_path)\n",
    "            os.remove(self.best_model_path)  # Remove temporary file\n",
    "        \n",
    "        return self\n",
    "    \n",
    "    def predict(self, X):\n",
    "        X_imputed = self.imputer.transform(X)\n",
    "        return self.model.predict(X_imputed).flatten()\n",
    "    \n",
    "    def __deepcopy__(self, memo):\n",
    "        # Add deepcopy support for scikit-learn\n",
    "        cls = self.__class__\n",
    "        result = cls.__new__(cls)\n",
    "        memo[id(self)] = result\n",
    "        for k, v in self.__dict__.items():\n",
    "            setattr(result, k, deepcopy(v, memo))\n",
    "        return result\n",
    "\n",
    "# TabNet hyperparameters\n",
    "TabNet_Params = {\n",
    "    'n_d': 64,              # Width of the decision prediction layer\n",
    "    'n_a': 64,              # Width of the attention embedding for each step\n",
    "    'n_steps': 5,           # Number of steps in the architecture\n",
    "    'gamma': 1.5,           # Coefficient for feature selection regularization\n",
    "    'n_independent': 2,     # Number of independent GLU layer in each GLU block\n",
    "    'n_shared': 2,          # Number of shared GLU layer in each GLU block\n",
    "    'lambda_sparse': 1e-4,  # Sparsity regularization\n",
    "    'optimizer_fn': torch.optim.Adam,\n",
    "    'optimizer_params': dict(lr=2e-2, weight_decay=1e-5),\n",
    "    'mask_type': 'entmax',\n",
    "    'scheduler_params': dict(mode=\"min\", patience=10, min_lr=1e-5, factor=0.5),\n",
    "    'scheduler_fn': torch.optim.lr_scheduler.ReduceLROnPlateau,\n",
    "    'verbose': 1,\n",
    "    'device_name': 'cuda' if torch.cuda.is_available() else 'cpu'\n",
    "}\n",
    "\n",
    "class TabNetPretrainedModelCheckpoint(Callback):\n",
    "    def __init__(self, filepath, monitor='val_loss', mode='min', \n",
    "                 save_best_only=True, verbose=1):\n",
    "        super().__init__()  # Initialize parent class\n",
    "        self.filepath = filepath\n",
    "        self.monitor = monitor\n",
    "        self.mode = mode\n",
    "        self.save_best_only = save_best_only\n",
    "        self.verbose = verbose\n",
    "        self.best = float('inf') if mode == 'min' else -float('inf')\n",
    "        \n",
    "    def on_train_begin(self, logs=None):\n",
    "        self.model = self.trainer  # Use trainer itself as model\n",
    "        \n",
    "    def on_epoch_end(self, epoch, logs=None):\n",
    "        logs = logs or {}\n",
    "        current = logs.get(self.monitor)\n",
    "        if current is None:\n",
    "            return\n",
    "        \n",
    "        # Check if current metric is better than best\n",
    "        if (self.mode == 'min' and current < self.best) or \\\n",
    "           (self.mode == 'max' and current > self.best):\n",
    "            if self.verbose:\n",
    "                print(f'\\nEpoch {epoch}: {self.monitor} improved from {self.best:.4f} to {current:.4f}')\n",
    "            self.best = current\n",
    "            if self.save_best_only:\n",
    "                self.model.save_model(self.filepath)  # Save the entire model"
   ]
  },
  {
   "cell_type": "code",
   "execution_count": 15,
   "id": "48481731",
   "metadata": {
    "execution": {
     "iopub.execute_input": "2024-11-01T02:14:02.376963Z",
     "iopub.status.busy": "2024-11-01T02:14:02.376665Z",
     "iopub.status.idle": "2024-11-01T02:14:02.389968Z",
     "shell.execute_reply": "2024-11-01T02:14:02.389239Z"
    },
    "papermill": {
     "duration": 0.021975,
     "end_time": "2024-11-01T02:14:02.391863",
     "exception": false,
     "start_time": "2024-11-01T02:14:02.369888",
     "status": "completed"
    },
    "tags": []
   },
   "outputs": [],
   "source": [
    "# Create model instances\n",
    "Light = LGBMRegressor(**Params, random_state=SEED, verbose=-1, n_estimators=300)\n",
    "XGB_Model = XGBRegressor(**XGB_Params)\n",
    "CatBoost_Model = CatBoostRegressor(**CatBoost_Params)\n",
    "TabNet_Model = TabNetWrapper(**TabNet_Params) # New\n",
    "train_xg_regressor = TrainXGMaskNNSRegressor(num_epochs=200, num_models=3, batch_size=64, lr=0.0025)"
   ]
  },
  {
   "cell_type": "code",
   "execution_count": 16,
   "id": "322b4b38",
   "metadata": {
    "execution": {
     "iopub.execute_input": "2024-11-01T02:14:02.404904Z",
     "iopub.status.busy": "2024-11-01T02:14:02.404629Z",
     "iopub.status.idle": "2024-11-01T02:22:07.991657Z",
     "shell.execute_reply": "2024-11-01T02:22:07.990683Z"
    },
    "papermill": {
     "duration": 485.595831,
     "end_time": "2024-11-01T02:22:07.993755",
     "exception": false,
     "start_time": "2024-11-01T02:14:02.397924",
     "status": "completed"
    },
    "tags": []
   },
   "outputs": [
    {
     "name": "stderr",
     "output_type": "stream",
     "text": [
      "Training Folds: 100%|██████████| 5/5 [08:05<00:00, 97.03s/it]"
     ]
    },
    {
     "name": "stdout",
     "output_type": "stream",
     "text": [
      "Mean Train QWK --> 0.6472\n",
      "Mean Validation QWK ---> 0.3549\n"
     ]
    },
    {
     "name": "stderr",
     "output_type": "stream",
     "text": [
      "\n"
     ]
    },
    {
     "name": "stdout",
     "output_type": "stream",
     "text": [
      "----> || Optimized QWK SCORE :: \u001b[36m\u001b[1m 0.463\u001b[0m\n"
     ]
    },
    {
     "data": {
      "text/html": [
       "<div>\n",
       "<style scoped>\n",
       "    .dataframe tbody tr th:only-of-type {\n",
       "        vertical-align: middle;\n",
       "    }\n",
       "\n",
       "    .dataframe tbody tr th {\n",
       "        vertical-align: top;\n",
       "    }\n",
       "\n",
       "    .dataframe thead th {\n",
       "        text-align: right;\n",
       "    }\n",
       "</style>\n",
       "<table border=\"1\" class=\"dataframe\">\n",
       "  <thead>\n",
       "    <tr style=\"text-align: right;\">\n",
       "      <th></th>\n",
       "      <th>id</th>\n",
       "      <th>sii</th>\n",
       "    </tr>\n",
       "  </thead>\n",
       "  <tbody>\n",
       "    <tr>\n",
       "      <th>0</th>\n",
       "      <td>00008ff9</td>\n",
       "      <td>1</td>\n",
       "    </tr>\n",
       "    <tr>\n",
       "      <th>1</th>\n",
       "      <td>000fd460</td>\n",
       "      <td>0</td>\n",
       "    </tr>\n",
       "    <tr>\n",
       "      <th>2</th>\n",
       "      <td>00105258</td>\n",
       "      <td>0</td>\n",
       "    </tr>\n",
       "    <tr>\n",
       "      <th>3</th>\n",
       "      <td>00115b9f</td>\n",
       "      <td>0</td>\n",
       "    </tr>\n",
       "    <tr>\n",
       "      <th>4</th>\n",
       "      <td>0016bb22</td>\n",
       "      <td>1</td>\n",
       "    </tr>\n",
       "    <tr>\n",
       "      <th>5</th>\n",
       "      <td>001f3379</td>\n",
       "      <td>1</td>\n",
       "    </tr>\n",
       "    <tr>\n",
       "      <th>6</th>\n",
       "      <td>0038ba98</td>\n",
       "      <td>0</td>\n",
       "    </tr>\n",
       "    <tr>\n",
       "      <th>7</th>\n",
       "      <td>0068a485</td>\n",
       "      <td>0</td>\n",
       "    </tr>\n",
       "    <tr>\n",
       "      <th>8</th>\n",
       "      <td>0069fbed</td>\n",
       "      <td>1</td>\n",
       "    </tr>\n",
       "    <tr>\n",
       "      <th>9</th>\n",
       "      <td>0083e397</td>\n",
       "      <td>1</td>\n",
       "    </tr>\n",
       "    <tr>\n",
       "      <th>10</th>\n",
       "      <td>0087dd65</td>\n",
       "      <td>0</td>\n",
       "    </tr>\n",
       "    <tr>\n",
       "      <th>11</th>\n",
       "      <td>00abe655</td>\n",
       "      <td>0</td>\n",
       "    </tr>\n",
       "    <tr>\n",
       "      <th>12</th>\n",
       "      <td>00ae59c9</td>\n",
       "      <td>1</td>\n",
       "    </tr>\n",
       "    <tr>\n",
       "      <th>13</th>\n",
       "      <td>00af6387</td>\n",
       "      <td>1</td>\n",
       "    </tr>\n",
       "    <tr>\n",
       "      <th>14</th>\n",
       "      <td>00bd4359</td>\n",
       "      <td>1</td>\n",
       "    </tr>\n",
       "    <tr>\n",
       "      <th>15</th>\n",
       "      <td>00c0cd71</td>\n",
       "      <td>1</td>\n",
       "    </tr>\n",
       "    <tr>\n",
       "      <th>16</th>\n",
       "      <td>00d56d4b</td>\n",
       "      <td>0</td>\n",
       "    </tr>\n",
       "    <tr>\n",
       "      <th>17</th>\n",
       "      <td>00d9913d</td>\n",
       "      <td>0</td>\n",
       "    </tr>\n",
       "    <tr>\n",
       "      <th>18</th>\n",
       "      <td>00e6167c</td>\n",
       "      <td>0</td>\n",
       "    </tr>\n",
       "    <tr>\n",
       "      <th>19</th>\n",
       "      <td>00ebc35d</td>\n",
       "      <td>1</td>\n",
       "    </tr>\n",
       "  </tbody>\n",
       "</table>\n",
       "</div>"
      ],
      "text/plain": [
       "          id  sii\n",
       "0   00008ff9    1\n",
       "1   000fd460    0\n",
       "2   00105258    0\n",
       "3   00115b9f    0\n",
       "4   0016bb22    1\n",
       "5   001f3379    1\n",
       "6   0038ba98    0\n",
       "7   0068a485    0\n",
       "8   0069fbed    1\n",
       "9   0083e397    1\n",
       "10  0087dd65    0\n",
       "11  00abe655    0\n",
       "12  00ae59c9    1\n",
       "13  00af6387    1\n",
       "14  00bd4359    1\n",
       "15  00c0cd71    1\n",
       "16  00d56d4b    0\n",
       "17  00d9913d    0\n",
       "18  00e6167c    0\n",
       "19  00ebc35d    1"
      ]
     },
     "execution_count": 16,
     "metadata": {},
     "output_type": "execute_result"
    }
   ],
   "source": [
    "voting_model = VotingRegressor(estimators=[\n",
    "    ('lightgbm', Light),\n",
    "    ('xgboost', XGB_Model),\n",
    "    ('catboost', CatBoost_Model),\n",
    "    ('tabnet', TabNet_Model),\n",
    "    ('train_xg', train_xg_regressor)\n",
    "])\n",
    "\n",
    "Submission1 = TrainML(voting_model, test)\n",
    "\n",
    "Submission1"
   ]
  }
 ],
 "metadata": {
  "kaggle": {
   "accelerator": "nvidiaTeslaT4",
   "dataSources": [
    {
     "databundleVersionId": 9643020,
     "sourceId": 81933,
     "sourceType": "competition"
    },
    {
     "datasetId": 921302,
     "sourceId": 7453542,
     "sourceType": "datasetVersion"
    }
   ],
   "dockerImageVersionId": 30786,
   "isGpuEnabled": true,
   "isInternetEnabled": false,
   "language": "python",
   "sourceType": "notebook"
  },
  "kernelspec": {
   "display_name": "Python 3",
   "language": "python",
   "name": "python3"
  },
  "language_info": {
   "codemirror_mode": {
    "name": "ipython",
    "version": 3
   },
   "file_extension": ".py",
   "mimetype": "text/x-python",
   "name": "python",
   "nbconvert_exporter": "python",
   "pygments_lexer": "ipython3",
   "version": "3.10.14"
  },
  "papermill": {
   "default_parameters": {},
   "duration": 610.856557,
   "end_time": "2024-11-01T02:22:11.584621",
   "environment_variables": {},
   "exception": null,
   "input_path": "__notebook__.ipynb",
   "output_path": "__notebook__.ipynb",
   "parameters": {},
   "start_time": "2024-11-01T02:12:00.728064",
   "version": "2.6.0"
  }
 },
 "nbformat": 4,
 "nbformat_minor": 5
}

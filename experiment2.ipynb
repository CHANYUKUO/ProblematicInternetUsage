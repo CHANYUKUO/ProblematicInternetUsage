{
 "cells": [
  {
   "cell_type": "code",
   "execution_count": 1,
   "id": "f8184cdb",
   "metadata": {
    "execution": {
     "iopub.execute_input": "2024-10-29T17:36:25.786229Z",
     "iopub.status.busy": "2024-10-29T17:36:25.785674Z",
     "iopub.status.idle": "2024-10-29T17:36:32.964200Z",
     "shell.execute_reply": "2024-10-29T17:36:32.962961Z"
    },
    "papermill": {
     "duration": 7.18812,
     "end_time": "2024-10-29T17:36:32.967380",
     "exception": false,
     "start_time": "2024-10-29T17:36:25.779260",
     "status": "completed"
    },
    "tags": []
   },
   "outputs": [
    {
     "name": "stdout",
     "output_type": "stream",
     "text": [
      "The train data has the shape:  (3960, 81)\n",
      "The test data has the shape:  (20, 58)\n",
      "\n",
      "Total number of missing training values:  131717\n"
     ]
    },
    {
     "name": "stderr",
     "output_type": "stream",
     "text": [
      "/tmp/ipykernel_26/4264016259.py:21: FutureWarning: Downcasting behavior in `replace` is deprecated and will be removed in a future version. To retain the old behavior, explicitly call `result.infer_objects(copy=False)`. To opt-in to the future behavior, set `pd.set_option('future.no_silent_downcasting', True)`\n",
      "  train[season] = train[season].replace({'Spring':1, 'Summer':2, 'Fall':3, 'Winter':4})\n"
     ]
    }
   ],
   "source": [
    "from pytorch_tabnet.tab_model import TabNetClassifier, TabNetRegressor\n",
    "from pytorch_tabnet.pretraining import TabNetPretrainer\n",
    "import torch\n",
    "import numpy as np, pandas as pd, os\n",
    "from sklearn.model_selection import cross_val_score, StratifiedKFold\n",
    "import xgboost as xgb\n",
    "import plotly.express as px, seaborn as sns, matplotlib.pyplot as plt\n",
    "sns.set_style('darkgrid')\n",
    "from sklearn.metrics import make_scorer, cohen_kappa_score\n",
    "path = '../input/child-mind-institute-problematic-internet-use/'\n",
    "\n",
    "train = pd.read_csv(path + 'train.csv', index_col = 'id')\n",
    "print(\"The train data has the shape: \",train.shape)\n",
    "test = pd.read_csv(path + 'test.csv', index_col = 'id')\n",
    "print(\"The test data has the shape: \",test.shape)\n",
    "print(\"\")\n",
    "print(\"Total number of missing training values: \", train.isna().sum().sum())\n",
    "train_cat_columns = train.select_dtypes(exclude = 'number').columns\n",
    "\n",
    "for season in train_cat_columns:\n",
    "    train[season] = train[season].replace({'Spring':1, 'Summer':2, 'Fall':3, 'Winter':4})\n",
    "PCIAT_cols = [val for val in train.columns[train.columns.str.contains('PCIAT')]]\n",
    "PCIAT_cols.remove('PCIAT-PCIAT_Total')\n",
    "train = train.drop(columns = PCIAT_cols)\n",
    "train = train.dropna(subset='sii')\n",
    "\n",
    "\n"
   ]
  },
  {
   "cell_type": "code",
   "execution_count": 2,
   "id": "16ed6a13",
   "metadata": {
    "execution": {
     "iopub.execute_input": "2024-10-29T17:36:32.978235Z",
     "iopub.status.busy": "2024-10-29T17:36:32.977162Z",
     "iopub.status.idle": "2024-10-29T17:36:32.987964Z",
     "shell.execute_reply": "2024-10-29T17:36:32.986739Z"
    },
    "papermill": {
     "duration": 0.019047,
     "end_time": "2024-10-29T17:36:32.990475",
     "exception": false,
     "start_time": "2024-10-29T17:36:32.971428",
     "status": "completed"
    },
    "tags": []
   },
   "outputs": [],
   "source": [
    "def stratified_split_data(data, ratio=0.7):\n",
    "    train_model = []\n",
    "    train_val = []\n",
    "\n",
    "    # Loop over each unique category in 'sii'\n",
    "    for sii_value in data['sii'].unique():\n",
    "        subset = data[data['sii'] == sii_value]  # Filter by current sii value\n",
    "        \n",
    "        # Shuffle the subset for randomness\n",
    "        subset = subset.sample(frac=1).reset_index(drop=True)\n",
    "        \n",
    "        # Split the data for this sii category\n",
    "        split_index = round(len(subset) * ratio)\n",
    "        train_model.append(subset[:split_index])\n",
    "        train_val.append(subset[split_index:])\n",
    "\n",
    "        print(f\"sii = {sii_value} | Train: {len(train_model[-1])} | Val: {len(train_val[-1])}\")\n",
    "\n",
    "    # Concatenate all sii-category splits\n",
    "    train_model = pd.concat(train_model).reset_index(drop=True)\n",
    "    train_val = pd.concat(train_val).reset_index(drop=True)\n",
    "\n",
    "    return train_model, train_val\n",
    "\n",
    "\n",
    "def convert(scores):\n",
    "    scores = np.array(scores)*1.3\n",
    "    bins = np.zeros_like(scores)\n",
    "    bins[scores <= 30] = 0\n",
    "    bins[(scores > 30) & (scores < 50)] = 1\n",
    "    bins[(scores >= 50) & (scores < 80)] = 2\n",
    "    bins[scores >= 80] = 3\n",
    "    return bins\n",
    "def quadratic_kappa(y_true, y_pred):\n",
    "    return cohen_kappa_score(y_true, y_pred, weights='quadratic')\n",
    "\n"
   ]
  },
  {
   "cell_type": "code",
   "execution_count": 3,
   "id": "3af37f4a",
   "metadata": {
    "execution": {
     "iopub.execute_input": "2024-10-29T17:36:32.999981Z",
     "iopub.status.busy": "2024-10-29T17:36:32.999469Z",
     "iopub.status.idle": "2024-10-29T17:36:33.006707Z",
     "shell.execute_reply": "2024-10-29T17:36:33.005365Z"
    },
    "papermill": {
     "duration": 0.015215,
     "end_time": "2024-10-29T17:36:33.009509",
     "exception": false,
     "start_time": "2024-10-29T17:36:32.994294",
     "status": "completed"
    },
    "tags": []
   },
   "outputs": [],
   "source": [
    "from pytorch_tabnet.metrics import Metric\n",
    "class QWK(Metric):\n",
    "    def __init__(self):\n",
    "        self._name = \"QWK\"\n",
    "        self._maximize = True\n",
    "    def __call__(self, y_true, y_score):\n",
    "        return quadratic_kappa(convert(y_true),convert(y_score[:, 1]))"
   ]
  },
  {
   "cell_type": "code",
   "execution_count": 4,
   "id": "883198a8",
   "metadata": {
    "execution": {
     "iopub.execute_input": "2024-10-29T17:36:33.019965Z",
     "iopub.status.busy": "2024-10-29T17:36:33.018681Z",
     "iopub.status.idle": "2024-10-29T17:36:33.033807Z",
     "shell.execute_reply": "2024-10-29T17:36:33.031748Z"
    },
    "papermill": {
     "duration": 0.023309,
     "end_time": "2024-10-29T17:36:33.036717",
     "exception": false,
     "start_time": "2024-10-29T17:36:33.013408",
     "status": "completed"
    },
    "tags": []
   },
   "outputs": [
    {
     "name": "stderr",
     "output_type": "stream",
     "text": [
      "/opt/conda/lib/python3.10/site-packages/pytorch_tabnet/abstract_model.py:82: UserWarning: Device used : cpu\n",
      "  warnings.warn(f\"Device used : {self.device}\")\n"
     ]
    }
   ],
   "source": [
    "unsupervised_model = TabNetPretrainer(\n",
    "    optimizer_fn=torch.optim.Adam,\n",
    "    optimizer_params=dict(lr=2e-2),\n",
    "    mask_type=\"sparsemax\" # \"sparsemax\"\n",
    ")"
   ]
  },
  {
   "cell_type": "code",
   "execution_count": 5,
   "id": "acf4f209",
   "metadata": {
    "execution": {
     "iopub.execute_input": "2024-10-29T17:36:33.046330Z",
     "iopub.status.busy": "2024-10-29T17:36:33.045896Z",
     "iopub.status.idle": "2024-10-29T17:36:33.251013Z",
     "shell.execute_reply": "2024-10-29T17:36:33.249807Z"
    },
    "papermill": {
     "duration": 0.213113,
     "end_time": "2024-10-29T17:36:33.253693",
     "exception": false,
     "start_time": "2024-10-29T17:36:33.040580",
     "status": "completed"
    },
    "tags": []
   },
   "outputs": [
    {
     "name": "stdout",
     "output_type": "stream",
     "text": [
      "sii = 2.0 | Train: 302 | Val: 76\n",
      "sii = 0.0 | Train: 1275 | Val: 319\n",
      "sii = 1.0 | Train: 584 | Val: 146\n",
      "sii = 3.0 | Train: 27 | Val: 7\n"
     ]
    }
   ],
   "source": [
    "from sklearn.impute import SimpleImputer\n",
    "\n",
    "train_model,train_val=stratified_split_data(train, ratio=0.8)\n",
    "\n",
    "y_train = train_model[\"PCIAT-PCIAT_Total\"]\n",
    "X_train = train_model.drop(columns = ['PCIAT-PCIAT_Total','sii'])\n",
    "y_val = train_val[\"PCIAT-PCIAT_Total\"]\n",
    "X_val = train_val.drop(columns = ['PCIAT-PCIAT_Total','sii'])\n",
    "def median_impute(x):\n",
    "    return SimpleImputer(strategy='median').fit_transform(x)\n"
   ]
  },
  {
   "cell_type": "code",
   "execution_count": 6,
   "id": "5a143a46",
   "metadata": {
    "execution": {
     "iopub.execute_input": "2024-10-29T17:36:33.263981Z",
     "iopub.status.busy": "2024-10-29T17:36:33.263489Z",
     "iopub.status.idle": "2024-10-29T17:36:33.272664Z",
     "shell.execute_reply": "2024-10-29T17:36:33.271458Z"
    },
    "papermill": {
     "duration": 0.017536,
     "end_time": "2024-10-29T17:36:33.275169",
     "exception": false,
     "start_time": "2024-10-29T17:36:33.257633",
     "status": "completed"
    },
    "tags": []
   },
   "outputs": [
    {
     "data": {
      "text/plain": [
       "(2188, 1)"
      ]
     },
     "execution_count": 6,
     "metadata": {},
     "output_type": "execute_result"
    }
   ],
   "source": [
    "np.reshape(y_train,(-1,1)).shape"
   ]
  },
  {
   "cell_type": "code",
   "execution_count": 7,
   "id": "b3a67dc6",
   "metadata": {
    "execution": {
     "iopub.execute_input": "2024-10-29T17:36:33.285074Z",
     "iopub.status.busy": "2024-10-29T17:36:33.284597Z",
     "iopub.status.idle": "2024-10-29T17:36:58.959474Z",
     "shell.execute_reply": "2024-10-29T17:36:58.957896Z"
    },
    "papermill": {
     "duration": 25.683998,
     "end_time": "2024-10-29T17:36:58.963190",
     "exception": false,
     "start_time": "2024-10-29T17:36:33.279192",
     "status": "completed"
    },
    "tags": []
   },
   "outputs": [
    {
     "name": "stderr",
     "output_type": "stream",
     "text": [
      "/opt/conda/lib/python3.10/site-packages/pytorch_tabnet/abstract_model.py:82: UserWarning: Device used : cpu\n",
      "  warnings.warn(f\"Device used : {self.device}\")\n"
     ]
    },
    {
     "name": "stdout",
     "output_type": "stream",
     "text": [
      "epoch 0  | loss: 1237.13913| valid_mse: 1659.55098|  0:00:00s\n",
      "epoch 1  | loss: 1179.59896| valid_mse: 1028.94551|  0:00:00s\n",
      "epoch 2  | loss: 1129.89179| valid_mse: 782.12074|  0:00:00s\n",
      "epoch 3  | loss: 1085.97889| valid_mse: 720.3843|  0:00:00s\n",
      "epoch 4  | loss: 1037.51923| valid_mse: 676.68419|  0:00:01s\n",
      "epoch 5  | loss: 982.19774| valid_mse: 612.06983|  0:00:01s\n",
      "epoch 6  | loss: 931.9682| valid_mse: 566.72749|  0:00:01s\n",
      "epoch 7  | loss: 864.46088| valid_mse: 550.96457|  0:00:01s\n",
      "epoch 8  | loss: 797.74312| valid_mse: 555.01002|  0:00:02s\n",
      "epoch 9  | loss: 726.29408| valid_mse: 635.13141|  0:00:02s\n",
      "epoch 10 | loss: 652.84161| valid_mse: 944.15218|  0:00:02s\n",
      "epoch 11 | loss: 579.32155| valid_mse: 881.0662|  0:00:02s\n",
      "epoch 12 | loss: 514.98127| valid_mse: 639.03158|  0:00:02s\n",
      "epoch 13 | loss: 451.65722| valid_mse: 558.10742|  0:00:02s\n",
      "epoch 14 | loss: 401.26043| valid_mse: 612.91549|  0:00:03s\n",
      "epoch 15 | loss: 364.4476| valid_mse: 830.60864|  0:00:03s\n",
      "epoch 16 | loss: 347.36505| valid_mse: 898.84978|  0:00:03s\n",
      "epoch 17 | loss: 342.66181| valid_mse: 829.64256|  0:00:03s\n",
      "epoch 18 | loss: 340.89379| valid_mse: 819.87577|  0:00:04s\n",
      "epoch 19 | loss: 341.94603| valid_mse: 787.15529|  0:00:04s\n",
      "epoch 20 | loss: 339.06913| valid_mse: 782.19855|  0:00:04s\n",
      "epoch 21 | loss: 324.9071| valid_mse: 693.15267|  0:00:04s\n",
      "epoch 22 | loss: 320.67124| valid_mse: 702.37303|  0:00:04s\n",
      "epoch 23 | loss: 326.84136| valid_mse: 662.50894|  0:00:04s\n",
      "epoch 24 | loss: 317.38236| valid_mse: 560.37555|  0:00:05s\n",
      "epoch 25 | loss: 321.33844| valid_mse: 497.92578|  0:00:05s\n",
      "epoch 26 | loss: 317.63585| valid_mse: 772.27831|  0:00:05s\n",
      "epoch 27 | loss: 315.33322| valid_mse: 554.61636|  0:00:05s\n",
      "epoch 28 | loss: 314.70954| valid_mse: 545.3547|  0:00:05s\n",
      "epoch 29 | loss: 309.30664| valid_mse: 570.66904|  0:00:06s\n",
      "epoch 30 | loss: 309.77553| valid_mse: 580.64074|  0:00:06s\n",
      "epoch 31 | loss: 307.46159| valid_mse: 600.71653|  0:00:06s\n",
      "epoch 32 | loss: 307.65656| valid_mse: 587.40244|  0:00:06s\n",
      "epoch 33 | loss: 308.06093| valid_mse: 552.37976|  0:00:06s\n",
      "epoch 34 | loss: 307.6637| valid_mse: 515.74688|  0:00:06s\n",
      "epoch 35 | loss: 307.584 | valid_mse: 519.62089|  0:00:07s\n",
      "epoch 36 | loss: 302.24074| valid_mse: 509.91907|  0:00:07s\n",
      "epoch 37 | loss: 300.71923| valid_mse: 494.71375|  0:00:07s\n",
      "epoch 38 | loss: 300.77394| valid_mse: 468.25036|  0:00:07s\n",
      "epoch 39 | loss: 295.2096| valid_mse: 454.70343|  0:00:07s\n",
      "epoch 40 | loss: 293.71459| valid_mse: 460.09878|  0:00:08s\n",
      "epoch 41 | loss: 299.06988| valid_mse: 455.71234|  0:00:08s\n",
      "epoch 42 | loss: 294.4761| valid_mse: 482.95088|  0:00:08s\n",
      "epoch 43 | loss: 294.7562| valid_mse: 519.50371|  0:00:08s\n",
      "epoch 44 | loss: 296.97525| valid_mse: 557.36889|  0:00:08s\n",
      "epoch 45 | loss: 292.33044| valid_mse: 483.63311|  0:00:09s\n",
      "epoch 46 | loss: 288.14689| valid_mse: 438.31493|  0:00:09s\n",
      "epoch 47 | loss: 284.84937| valid_mse: 442.51616|  0:00:09s\n",
      "epoch 48 | loss: 288.13418| valid_mse: 488.16929|  0:00:09s\n",
      "epoch 49 | loss: 283.51502| valid_mse: 492.10897|  0:00:09s\n",
      "epoch 50 | loss: 287.13912| valid_mse: 465.04052|  0:00:09s\n",
      "epoch 51 | loss: 289.39668| valid_mse: 435.4436|  0:00:10s\n",
      "epoch 52 | loss: 287.87357| valid_mse: 400.72104|  0:00:10s\n",
      "epoch 53 | loss: 280.47516| valid_mse: 372.18628|  0:00:10s\n",
      "epoch 54 | loss: 283.37116| valid_mse: 387.47234|  0:00:10s\n",
      "epoch 55 | loss: 280.12832| valid_mse: 419.6003|  0:00:10s\n",
      "epoch 56 | loss: 281.3339| valid_mse: 420.13907|  0:00:11s\n",
      "epoch 57 | loss: 281.21604| valid_mse: 400.42124|  0:00:11s\n",
      "epoch 58 | loss: 272.30871| valid_mse: 397.94921|  0:00:11s\n",
      "epoch 59 | loss: 274.72604| valid_mse: 399.24973|  0:00:11s\n",
      "epoch 60 | loss: 274.7144| valid_mse: 403.48969|  0:00:11s\n",
      "epoch 61 | loss: 272.5989| valid_mse: 409.58279|  0:00:12s\n",
      "epoch 62 | loss: 271.02638| valid_mse: 405.00602|  0:00:12s\n",
      "epoch 63 | loss: 277.45113| valid_mse: 383.84125|  0:00:12s\n",
      "epoch 64 | loss: 274.37286| valid_mse: 362.81224|  0:00:12s\n",
      "epoch 65 | loss: 271.33932| valid_mse: 353.9815|  0:00:12s\n",
      "epoch 66 | loss: 272.84221| valid_mse: 348.00334|  0:00:13s\n",
      "epoch 67 | loss: 271.76367| valid_mse: 347.66018|  0:00:13s\n",
      "epoch 68 | loss: 268.7606| valid_mse: 347.61559|  0:00:13s\n",
      "epoch 69 | loss: 266.50112| valid_mse: 351.20288|  0:00:13s\n",
      "epoch 70 | loss: 263.21659| valid_mse: 343.84946|  0:00:13s\n",
      "epoch 71 | loss: 260.27864| valid_mse: 340.9422|  0:00:14s\n",
      "epoch 72 | loss: 260.84123| valid_mse: 337.90539|  0:00:14s\n",
      "epoch 73 | loss: 263.70832| valid_mse: 347.99157|  0:00:14s\n",
      "epoch 74 | loss: 255.96337| valid_mse: 344.92554|  0:00:14s\n",
      "epoch 75 | loss: 254.36992| valid_mse: 337.63333|  0:00:14s\n",
      "epoch 76 | loss: 257.91473| valid_mse: 343.13234|  0:00:14s\n",
      "epoch 77 | loss: 258.99414| valid_mse: 352.315 |  0:00:15s\n",
      "epoch 78 | loss: 256.9592| valid_mse: 348.01783|  0:00:15s\n",
      "epoch 79 | loss: 253.74407| valid_mse: 343.22883|  0:00:15s\n",
      "epoch 80 | loss: 252.787 | valid_mse: 343.47033|  0:00:15s\n",
      "epoch 81 | loss: 250.61097| valid_mse: 339.06904|  0:00:15s\n",
      "epoch 82 | loss: 245.94217| valid_mse: 349.98464|  0:00:16s\n",
      "epoch 83 | loss: 245.08718| valid_mse: 351.8876|  0:00:16s\n",
      "epoch 84 | loss: 250.09587| valid_mse: 354.78383|  0:00:16s\n",
      "epoch 85 | loss: 249.29243| valid_mse: 357.39051|  0:00:16s\n",
      "epoch 86 | loss: 246.71821| valid_mse: 348.71058|  0:00:16s\n",
      "epoch 87 | loss: 242.27201| valid_mse: 354.44416|  0:00:16s\n",
      "epoch 88 | loss: 241.13177| valid_mse: 357.58766|  0:00:17s\n",
      "epoch 89 | loss: 244.31318| valid_mse: 360.08798|  0:00:17s\n",
      "epoch 90 | loss: 242.06703| valid_mse: 354.86307|  0:00:17s\n",
      "epoch 91 | loss: 241.30926| valid_mse: 353.03564|  0:00:17s\n",
      "epoch 92 | loss: 239.56385| valid_mse: 353.44712|  0:00:17s\n",
      "epoch 93 | loss: 240.61766| valid_mse: 362.31282|  0:00:18s\n",
      "epoch 94 | loss: 239.55734| valid_mse: 369.21753|  0:00:18s\n",
      "epoch 95 | loss: 233.21674| valid_mse: 361.58979|  0:00:18s\n",
      "epoch 96 | loss: 237.89814| valid_mse: 356.83231|  0:00:18s\n",
      "epoch 97 | loss: 236.69047| valid_mse: 356.66434|  0:00:18s\n",
      "epoch 98 | loss: 228.35781| valid_mse: 363.75012|  0:00:18s\n",
      "epoch 99 | loss: 230.88236| valid_mse: 369.8393|  0:00:19s\n",
      "epoch 100| loss: 232.28194| valid_mse: 363.93531|  0:00:19s\n",
      "epoch 101| loss: 231.37282| valid_mse: 361.11247|  0:00:19s\n",
      "epoch 102| loss: 229.75145| valid_mse: 360.8416|  0:00:19s\n",
      "epoch 103| loss: 228.64639| valid_mse: 363.78013|  0:00:19s\n",
      "epoch 104| loss: 230.59452| valid_mse: 364.00355|  0:00:20s\n",
      "epoch 105| loss: 228.6468| valid_mse: 368.6106|  0:00:20s\n",
      "epoch 106| loss: 226.63585| valid_mse: 367.02467|  0:00:20s\n",
      "epoch 107| loss: 221.2692| valid_mse: 362.87048|  0:00:20s\n",
      "epoch 108| loss: 219.55255| valid_mse: 368.93276|  0:00:20s\n",
      "epoch 109| loss: 220.21668| valid_mse: 374.45328|  0:00:20s\n",
      "epoch 110| loss: 217.33942| valid_mse: 367.12059|  0:00:21s\n",
      "epoch 111| loss: 219.2985| valid_mse: 362.53839|  0:00:21s\n",
      "epoch 112| loss: 218.17441| valid_mse: 363.93023|  0:00:21s\n",
      "epoch 113| loss: 211.18985| valid_mse: 365.71611|  0:00:21s\n",
      "epoch 114| loss: 210.92612| valid_mse: 361.85356|  0:00:21s\n",
      "epoch 115| loss: 213.66258| valid_mse: 365.25449|  0:00:22s\n",
      "epoch 116| loss: 202.87928| valid_mse: 368.24726|  0:00:22s\n",
      "epoch 117| loss: 204.44687| valid_mse: 371.6437|  0:00:22s\n",
      "epoch 118| loss: 203.82583| valid_mse: 374.05898|  0:00:22s\n",
      "epoch 119| loss: 206.66869| valid_mse: 373.63424|  0:00:22s\n",
      "epoch 120| loss: 201.82763| valid_mse: 374.02799|  0:00:23s\n",
      "epoch 121| loss: 201.5962| valid_mse: 365.74288|  0:00:23s\n",
      "epoch 122| loss: 199.4635| valid_mse: 357.33576|  0:00:23s\n",
      "epoch 123| loss: 197.0431| valid_mse: 354.97408|  0:00:23s\n",
      "epoch 124| loss: 199.09984| valid_mse: 354.68315|  0:00:23s\n",
      "epoch 125| loss: 192.41763| valid_mse: 350.17843|  0:00:23s\n",
      "\n",
      "Early stopping occurred at epoch 125 with best_epoch = 75 and best_valid_mse = 337.63333\n"
     ]
    },
    {
     "name": "stderr",
     "output_type": "stream",
     "text": [
      "/opt/conda/lib/python3.10/site-packages/pytorch_tabnet/callbacks.py:172: UserWarning: Best weights from best epoch are automatically used!\n",
      "  warnings.warn(wrn_msg)\n"
     ]
    }
   ],
   "source": [
    "\n",
    "clf = TabNetRegressor()  #TabNetRegressor()\n",
    "clf.fit(\n",
    "    median_impute(X_train), np.reshape(y_train,(-1,1)),\n",
    "    eval_set=[(median_impute(X_val), np.reshape(y_val,(-1,1)))],\n",
    "    eval_name=['valid'],\n",
    "            eval_metric=['mse'],\n",
    "            max_epochs=500,\n",
    "            patience=50,\n",
    "            batch_size=1024,\n",
    "            virtual_batch_size=128,\n",
    "            num_workers=0,\n",
    "            drop_last=False,\n",
    ")\n",
    "\n"
   ]
  },
  {
   "cell_type": "code",
   "execution_count": 8,
   "id": "f99dc8e4",
   "metadata": {
    "execution": {
     "iopub.execute_input": "2024-10-29T17:36:58.983169Z",
     "iopub.status.busy": "2024-10-29T17:36:58.981778Z",
     "iopub.status.idle": "2024-10-29T17:36:59.016759Z",
     "shell.execute_reply": "2024-10-29T17:36:59.015375Z"
    },
    "papermill": {
     "duration": 0.047527,
     "end_time": "2024-10-29T17:36:59.019509",
     "exception": false,
     "start_time": "2024-10-29T17:36:58.971982",
     "status": "completed"
    },
    "tags": []
   },
   "outputs": [
    {
     "name": "stderr",
     "output_type": "stream",
     "text": [
      "/tmp/ipykernel_26/380760587.py:5: FutureWarning: Downcasting behavior in `replace` is deprecated and will be removed in a future version. To retain the old behavior, explicitly call `result.infer_objects(copy=False)`. To opt-in to the future behavior, set `pd.set_option('future.no_silent_downcasting', True)`\n",
      "  test[season] = test[season].replace({'Spring':1, 'Summer':2, 'Fall':3, 'Winter':4})\n"
     ]
    }
   ],
   "source": [
    "# Make predictions on test data for each category\n",
    "test_cat = test.select_dtypes(exclude = 'number').columns\n",
    "\n",
    "for season in test_cat:\n",
    "    test[season] = test[season].replace({'Spring':1, 'Summer':2, 'Fall':3, 'Winter':4})\n",
    "\n",
    "preds = clf.predict(median_impute(test))"
   ]
  },
  {
   "cell_type": "code",
   "execution_count": 9,
   "id": "26b5608a",
   "metadata": {
    "execution": {
     "iopub.execute_input": "2024-10-29T17:36:59.041140Z",
     "iopub.status.busy": "2024-10-29T17:36:59.040663Z",
     "iopub.status.idle": "2024-10-29T17:36:59.050974Z",
     "shell.execute_reply": "2024-10-29T17:36:59.049594Z"
    },
    "papermill": {
     "duration": 0.024602,
     "end_time": "2024-10-29T17:36:59.053518",
     "exception": false,
     "start_time": "2024-10-29T17:36:59.028916",
     "status": "completed"
    },
    "tags": []
   },
   "outputs": [
    {
     "data": {
      "text/plain": [
       "array([36.845295, 24.542248, 37.02198 , 25.365894, 42.692505, 26.043064,\n",
       "       31.108494, 28.537746, 39.68969 , 43.56147 , 36.026424, 36.937553,\n",
       "       40.967224, 35.411396, 41.697468, 19.15818 ,  8.224137, 30.65409 ,\n",
       "       33.231113, 35.063198], dtype=float32)"
      ]
     },
     "execution_count": 9,
     "metadata": {},
     "output_type": "execute_result"
    }
   ],
   "source": [
    "preds.ravel()"
   ]
  },
  {
   "cell_type": "code",
   "execution_count": 10,
   "id": "ed1d2c5b",
   "metadata": {
    "execution": {
     "iopub.execute_input": "2024-10-29T17:36:59.072880Z",
     "iopub.status.busy": "2024-10-29T17:36:59.072423Z",
     "iopub.status.idle": "2024-10-29T17:36:59.088166Z",
     "shell.execute_reply": "2024-10-29T17:36:59.086801Z"
    },
    "papermill": {
     "duration": 0.028955,
     "end_time": "2024-10-29T17:36:59.091129",
     "exception": false,
     "start_time": "2024-10-29T17:36:59.062174",
     "status": "completed"
    },
    "tags": []
   },
   "outputs": [
    {
     "data": {
      "text/plain": [
       "id\n",
       "00008ff9    1.0\n",
       "000fd460    1.0\n",
       "00105258    1.0\n",
       "00115b9f    1.0\n",
       "0016bb22    2.0\n",
       "001f3379    1.0\n",
       "0038ba98    1.0\n",
       "0068a485    1.0\n",
       "0069fbed    2.0\n",
       "0083e397    2.0\n",
       "0087dd65    1.0\n",
       "00abe655    1.0\n",
       "00ae59c9    2.0\n",
       "00af6387    1.0\n",
       "00bd4359    2.0\n",
       "00c0cd71    0.0\n",
       "00d56d4b    0.0\n",
       "00d9913d    1.0\n",
       "00e6167c    1.0\n",
       "00ebc35d    1.0\n",
       "dtype: float32"
      ]
     },
     "execution_count": 10,
     "metadata": {},
     "output_type": "execute_result"
    }
   ],
   "source": [
    "preds = pd.Series(convert(preds.ravel()), dtype='float32')\n",
    "preds.index = test.index\n",
    "preds.to_csv('submission.csv')\n",
    "preds"
   ]
  },
  {
   "cell_type": "code",
   "execution_count": null,
   "id": "a0bc3e10",
   "metadata": {
    "papermill": {
     "duration": 0.008375,
     "end_time": "2024-10-29T17:36:59.108218",
     "exception": false,
     "start_time": "2024-10-29T17:36:59.099843",
     "status": "completed"
    },
    "tags": []
   },
   "outputs": [],
   "source": []
  }
 ],
 "metadata": {
  "kaggle": {
   "accelerator": "none",
   "dataSources": [
    {
     "databundleVersionId": 9643020,
     "sourceId": 81933,
     "sourceType": "competition"
    }
   ],
   "isGpuEnabled": false,
   "isInternetEnabled": false,
   "language": "python",
   "sourceType": "notebook"
  },
  "kernelspec": {
   "display_name": "Python 3",
   "language": "python",
   "name": "python3"
  },
  "language_info": {
   "codemirror_mode": {
    "name": "ipython",
    "version": 3
   },
   "file_extension": ".py",
   "mimetype": "text/x-python",
   "name": "python",
   "nbconvert_exporter": "python",
   "pygments_lexer": "ipython3",
   "version": "3.10.14"
  },
  "papermill": {
   "default_parameters": {},
   "duration": 38.818898,
   "end_time": "2024-10-29T17:37:01.393287",
   "environment_variables": {},
   "exception": null,
   "input_path": "__notebook__.ipynb",
   "output_path": "__notebook__.ipynb",
   "parameters": {},
   "start_time": "2024-10-29T17:36:22.574389",
   "version": "2.6.0"
  }
 },
 "nbformat": 4,
 "nbformat_minor": 5
}
